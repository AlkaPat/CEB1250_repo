{
 "cells": [
  {
   "cell_type": "markdown",
   "metadata": {},
   "source": [
    "# Coding challenges:\n",
    "\n",
    "-Ask the user for a number. Depending on whether the number is even or odd, print out an\n",
    "appropriate message;\n",
    "\n",
    "-Expanding the previous exercise, let’s say I give you a list saved in a variable: a = [1, 4, 9, 16, 25, 36,\n",
    "49, 64, 81, 100]. Write one line of Python that takes this list a and makes a new list that has only the\n",
    "even elements of this list in it.\n",
    "\n",
    "-Create a function that takes a list of numbers. Return the largest number in the list.\n",
    "\n",
    "-Ask the user for a string and print out whether this string is a palindrome or not. (A palindrome is a\n",
    "string that reads the same forwards and backwards.)\n",
    "\n",
    "-Write a program that asks the user how many Fibonnaci numbers to generate and then generates\n",
    "them.\n",
    "\n",
    "-Write a program that takes a number and print its square.\n",
    "\n",
    "-Given an list of positive integers with higher than 0 the answer should contain average values.\n",
    "\n",
    "-Return the number of vowels per string.\n",
    "\n",
    "-Write a program to convert degrees of Fahrenheit to Celsius."
   ]
  },
  {
   "cell_type": "code",
   "execution_count": 88,
   "metadata": {},
   "outputs": [
    {
     "name": "stdout",
     "output_type": "stream",
     "text": [
      "what is the number you want to test? 7\n",
      "You chose an odd number!\n"
     ]
    }
   ],
   "source": [
    "#Ask the user for a number. Depending on whether the number is even or odd, print out an appropriate message;\n",
    "\n",
    "#Requesting a user for a number\n",
    "number=input(\"what is the number you want to test? \")\n",
    "number=int(number)\n",
    "\n",
    "#Writing even or odd function and push in number\n",
    "\n",
    "def even_or_odd(i):\n",
    "    if i%2==0:\n",
    "        return(\"You chose an even number!\")\n",
    "    else:\n",
    "        return(\"You chose an odd number!\")\n",
    "        \n",
    "        \n",
    "print(even_or_odd(number))"
   ]
  },
  {
   "cell_type": "code",
   "execution_count": 89,
   "metadata": {},
   "outputs": [
    {
     "name": "stdout",
     "output_type": "stream",
     "text": [
      "[4, 16, 36, 64, 100]\n"
     ]
    }
   ],
   "source": [
    "# Expanding the previous exercise, let’s say I give you a list saved in a variable: a = [1, 4, 9, 16, 25, 36,\n",
    "# 49, 64, 81, 100]. Write one line of Python that takes this list a and makes a new list that has only the\n",
    "# even elements of this list in it.\n",
    "\n",
    "a=[1, 4, 9, 16, 25, 36,49, 64, 81, 100]\n",
    "#Taking only the even numbers from list a into a new list.\n",
    "new_even_list = [i for i in a if i%2==0]\n",
    "print(new_even_list)\n"
   ]
  },
  {
   "cell_type": "code",
   "execution_count": 90,
   "metadata": {},
   "outputs": [
    {
     "name": "stdout",
     "output_type": "stream",
     "text": [
      "100\n"
     ]
    }
   ],
   "source": [
    "#Create a function that takes a list of numbers. Return the largest number in the list.\n",
    "\n",
    "list=[3,5,7,100,60,33,11,10]\n",
    "\n",
    "largest=0\n",
    "for i in list:\n",
    "    if i>largest:\n",
    "        largest=i\n",
    "        \n",
    "print(largest)        \n",
    "\n"
   ]
  },
  {
   "cell_type": "code",
   "execution_count": 91,
   "metadata": {},
   "outputs": [
    {
     "name": "stdout",
     "output_type": "stream",
     "text": [
      "Please submit test stringABCDCBA\n",
      "('ABCDCBA', 'is a Palindrome!')\n"
     ]
    }
   ],
   "source": [
    "# Ask the user for a string and print out whether this string is a palindrome or not. (A palindrome is a\n",
    "# string that reads the same forwards and backwards.)\n",
    "\n",
    "#Asking for user string\n",
    "user_string=input(\"Please submit test string\")\n",
    "\n",
    "def palindrome_test(i):\n",
    "    #[::-1] slicing to read the string backwords\n",
    "    if i==i[::-1]:\n",
    "        return(i, \"is a Palindrome!\")\n",
    "    else:\n",
    "        return(i, \"is not a Palindrome!\")\n",
    "\n",
    "    \n",
    "print(palindrome_test(user_string))    \n",
    "    "
   ]
  },
  {
   "cell_type": "code",
   "execution_count": 102,
   "metadata": {},
   "outputs": [
    {
     "name": "stdout",
     "output_type": "stream",
     "text": [
      "how many Fibonnaci numbers do you want 5\n",
      "Your last Fib number is 5\n",
      "The Fib Squence is:\n",
      "1\n",
      "1\n",
      "2\n",
      "3\n",
      "5\n",
      "The Fib Squence starting with 0 is:\n",
      "0\n",
      "1\n",
      "1\n",
      "2\n",
      "3\n",
      "5\n"
     ]
    }
   ],
   "source": [
    "# Write a program that asks the user how many Fibonnaci numbers to generate and then generates\n",
    "# them.\n",
    "\n",
    "Fibonnaci_len=input(\"how many Fibonnaci numbers do you want \")\n",
    "#Casting as Int\n",
    "Fibonnaci_len=int(Fibonnaci_len)\n",
    "\n",
    "# Recursive Function gives last digit of sequence\n",
    "def Fibonnaci_num(i):\n",
    "   if i<=1:\n",
    "        return i\n",
    "   else:\n",
    "       return(Fibonnaci_num(i-1) + Fibonnaci_num(i-2))\n",
    "\n",
    "print(\"Your last Fib number is\", Fibonnaci_num(Fibonnaci_len))\n",
    "\n",
    "#Note, because python ranges start from 0, we have to indicate to start with 1 and then add 1 to Fibonnaci_len to get the \n",
    "#full sequence, as the range excludes the last number\n",
    "if Fibonnaci_len < 1:\n",
    "    print(\"Need a number greater than 0\")\n",
    "else:\n",
    "    print(\"The Fib Squence is:\")\n",
    "    for x in range(1, Fibonnaci_len+1):\n",
    "        print(Fibonnaci_num(x))\n",
    "\n",
    "        \n",
    "# Here is the sequence if you want to start with 0\n",
    "if Fibonnaci_len < 1:\n",
    "    print(\"Need a number greater than 0\")\n",
    "else:\n",
    "    print(\"The Fib Squence starting with 0 is:\")\n",
    "    \n",
    "    for x in range(Fibonnaci_len+1):\n",
    "        print(Fibonnaci_num(x))\n"
   ]
  },
  {
   "cell_type": "code",
   "execution_count": 104,
   "metadata": {},
   "outputs": [
    {
     "name": "stdout",
     "output_type": "stream",
     "text": [
      "4\n"
     ]
    }
   ],
   "source": [
    "#Write a program that takes a number and print its square.\n",
    "def squarer(n):\n",
    "    return (n*n)\n",
    "\n",
    "print (squarer(2))"
   ]
  },
  {
   "cell_type": "code",
   "execution_count": 105,
   "metadata": {},
   "outputs": [
    {
     "name": "stdout",
     "output_type": "stream",
     "text": [
      "4.0\n"
     ]
    }
   ],
   "source": [
    "#Given an list of positive integers with higher than 0 the answer should contain average values.\n",
    "def Average(my_list):\n",
    "    return sum(my_list)/len(my_list)\n",
    "    \n",
    "#Example\n",
    "my_list=[1,2,3,4,5,6,7]\n",
    "print(Average(my_list))\n"
   ]
  },
  {
   "cell_type": "code",
   "execution_count": 106,
   "metadata": {},
   "outputs": [
    {
     "name": "stdout",
     "output_type": "stream",
     "text": [
      "The number of [a e i o u] in this sentence is 0 2 4 4 2\n",
      "The total number of vowels is  5\n"
     ]
    }
   ],
   "source": [
    "#Return the number of vowels per string.\n",
    "\n",
    "#Returning number of each vowel\n",
    "\n",
    "my_string=\"This is how we count the number of vowels\"\n",
    "\n",
    "print(\"The number of [a e i o u] in this sentence is\",*map(my_string.lower().count,\"aieou\"))\n",
    "\n",
    "\n",
    "#For total number of vowels in sentence:\n",
    "def countvowels(my_String):\n",
    "    total_v=0\n",
    "    for v in \"aeiou\":\n",
    "        total_v=total_v+1\n",
    "    return total_v\n",
    "print (\"The total number of vowels is \",countvowels(my_string))"
   ]
  },
  {
   "cell_type": "code",
   "execution_count": 107,
   "metadata": {},
   "outputs": [
    {
     "name": "stdout",
     "output_type": "stream",
     "text": [
      "10.0\n"
     ]
    }
   ],
   "source": [
    "#Write a program to convert degrees of Fahrenheit to Celsius.\n",
    "\n",
    "def fah_to_cel(temp):\n",
    "    return((temp-32)/(9/5))\n",
    "\n",
    "#Example to conver 50 Farenheit to Celsius:\n",
    "print(fah_to_cel(50))\n"
   ]
  }
 ],
 "metadata": {
  "kernelspec": {
   "display_name": "Python 3",
   "language": "python",
   "name": "python3"
  },
  "language_info": {
   "codemirror_mode": {
    "name": "ipython",
    "version": 3
   },
   "file_extension": ".py",
   "mimetype": "text/x-python",
   "name": "python",
   "nbconvert_exporter": "python",
   "pygments_lexer": "ipython3",
   "version": "3.6.4"
  }
 },
 "nbformat": 4,
 "nbformat_minor": 2
}
